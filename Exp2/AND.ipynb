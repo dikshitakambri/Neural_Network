{
  "nbformat": 4,
  "nbformat_minor": 0,
  "metadata": {
    "colab": {
      "name": "AND.ipynb",
      "provenance": [],
      "collapsed_sections": []
    },
    "kernelspec": {
      "name": "python3",
      "display_name": "Python 3"
    },
    "language_info": {
      "name": "python"
    }
  },
  "cells": [
    {
      "cell_type": "code",
      "metadata": {
        "colab": {
          "base_uri": "https://localhost:8080/"
        },
        "id": "FeYIxgBqiyZ_",
        "outputId": "01256507-a50d-497f-da5e-a893d35cb94d"
      },
      "source": [
        "import numpy as np\n",
        "\n",
        "# input weights and threshold values \n",
        "print('Enter the weights'); \n",
        "w1=float(input('Weight w1='))\n",
        "w2=float(input('Weight w2='))\n",
        "#print('Enter threshold value');"
      ],
      "execution_count": 1,
      "outputs": [
        {
          "output_type": "stream",
          "text": [
            "Enter the weights\n",
            "Weight w1=1\n",
            "Weight w2=1\n"
          ],
          "name": "stdout"
        }
      ]
    },
    {
      "cell_type": "code",
      "metadata": {
        "id": "1MZwzoFjlDo6"
      },
      "source": [
        "y=np.array([0, 0, 0, 0])\n",
        "x1=np.array([0, 0, 1, 1])\n",
        "x2=np.array([0, 1, 0, 1]) \n",
        "t=np.array([0, 0, 0, 1])"
      ],
      "execution_count": 2,
      "outputs": []
    },
    {
      "cell_type": "code",
      "metadata": {
        "colab": {
          "base_uri": "https://localhost:8080/"
        },
        "id": "XvUuvBb-l0I2",
        "outputId": "e3a7a93a-42ab-42c1-e605-56cc55117732"
      },
      "source": [
        "net = np.multiply(w1,x1)+np.multiply(w2,x2);\n",
        "print(net)"
      ],
      "execution_count": 3,
      "outputs": [
        {
          "output_type": "stream",
          "text": [
            "[0. 1. 1. 2.]\n"
          ],
          "name": "stdout"
        }
      ]
    },
    {
      "cell_type": "code",
      "metadata": {
        "colab": {
          "base_uri": "https://localhost:8080/"
        },
        "id": "F8OPNTmLl5mO",
        "outputId": "d92bc62b-cfde-4634-e535-9fbe2e4ce84c"
      },
      "source": [
        "T=float(input('T='))"
      ],
      "execution_count": 4,
      "outputs": [
        {
          "output_type": "stream",
          "text": [
            "T=2\n"
          ],
          "name": "stdout"
        }
      ]
    },
    {
      "cell_type": "code",
      "metadata": {
        "id": "jlPNlq5Cmhmc"
      },
      "source": [
        "for i in range(0,4):\n",
        "    if net[i] >= T:\n",
        "        y[i]=1;\n",
        "    else:\n",
        "        y[i]=0;"
      ],
      "execution_count": 5,
      "outputs": []
    },
    {
      "cell_type": "code",
      "metadata": {
        "colab": {
          "base_uri": "https://localhost:8080/"
        },
        "id": "r0t4GKcSml9J",
        "outputId": "0ac00185-9be6-4c2a-9798-87e7862e5c7a"
      },
      "source": [
        "print('Output of net=');\n",
        "print(y);"
      ],
      "execution_count": 6,
      "outputs": [
        {
          "output_type": "stream",
          "text": [
            "Output of net=\n",
            "[0 0 0 1]\n"
          ],
          "name": "stdout"
        }
      ]
    },
    {
      "cell_type": "code",
      "metadata": {
        "colab": {
          "base_uri": "https://localhost:8080/"
        },
        "id": "VpU4cCwBmp6f",
        "outputId": "2a766bc2-c4d4-4222-c143-4def55e758a2"
      },
      "source": [
        "print('Target=');\n",
        "print(t);"
      ],
      "execution_count": 7,
      "outputs": [
        {
          "output_type": "stream",
          "text": [
            "Target=\n",
            "[0 0 0 1]\n"
          ],
          "name": "stdout"
        }
      ]
    },
    {
      "cell_type": "code",
      "metadata": {
        "colab": {
          "base_uri": "https://localhost:8080/"
        },
        "id": "Fp5A4LjOmtOI",
        "outputId": "60c514df-4f08-4525-9f04-0ec57df52ff4"
      },
      "source": [
        "if np.array_equal(y,t):\n",
        "    print('Network has proper weights and threshold values');\n",
        "    print('Network has worked as AND function');\n",
        "    print('Output y',y);\n",
        "    print('Weights of neuron',w1,w2);\n",
        "    print('Threshold value=',T);\n",
        "else:\n",
        "    print('Network has been given WRONG parameters; Run again and provide another set of weights and threshold values');"
      ],
      "execution_count": 8,
      "outputs": [
        {
          "output_type": "stream",
          "text": [
            "Network has proper weights and threshold values\n",
            "Network has worked as AND function\n",
            "Output y [0 0 0 1]\n",
            "Weights of neuron 1.0 1.0\n",
            "Threshold value= 2.0\n"
          ],
          "name": "stdout"
        }
      ]
    },
    {
      "cell_type": "code",
      "metadata": {
        "id": "TltHKqCwmxSb"
      },
      "source": [
        ""
      ],
      "execution_count": null,
      "outputs": []
    }
  ]
}