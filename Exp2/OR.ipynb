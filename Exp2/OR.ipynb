{
  "nbformat": 4,
  "nbformat_minor": 0,
  "metadata": {
    "colab": {
      "name": "OR.ipynb",
      "provenance": []
    },
    "kernelspec": {
      "name": "python3",
      "display_name": "Python 3"
    },
    "language_info": {
      "name": "python"
    }
  },
  "cells": [
    {
      "cell_type": "code",
      "metadata": {
        "colab": {
          "base_uri": "https://localhost:8080/"
        },
        "id": "SLhlfWI5n6nB",
        "outputId": "a4b1a5f7-226a-4db3-a73f-c432e8e22f60"
      },
      "source": [
        "import numpy as np\n",
        "\n",
        "# input weights and threshold values \n",
        "print('Enter the weights'); \n",
        "w1=float(input('Weight w1='))\n",
        "w2=float(input('Weight w2='))\n",
        "#print('Enter threshold value');"
      ],
      "execution_count": 1,
      "outputs": [
        {
          "output_type": "stream",
          "text": [
            "Enter the weights\n",
            "Weight w1=1\n",
            "Weight w2=-1\n"
          ],
          "name": "stdout"
        }
      ]
    },
    {
      "cell_type": "code",
      "metadata": {
        "id": "7R6Q9n-Vn8iI"
      },
      "source": [
        "y=np.array([0, 0, 0, 0])\n",
        "x1=np.array([0, 0, 1, 1])\n",
        "x2=np.array([0, 1, 0, 1]) \n",
        "t=np.array([0, 1, 1, 1])"
      ],
      "execution_count": 2,
      "outputs": []
    },
    {
      "cell_type": "code",
      "metadata": {
        "colab": {
          "base_uri": "https://localhost:8080/"
        },
        "id": "MjWV-9UmSo9L",
        "outputId": "e5580bc7-424b-43b5-c69d-97edf34d9022"
      },
      "source": [
        "net = np.multiply(w1,x1)+np.multiply(w2,x2);\n",
        "print(net)"
      ],
      "execution_count": 3,
      "outputs": [
        {
          "output_type": "stream",
          "text": [
            "[ 0. -1.  1.  0.]\n"
          ],
          "name": "stdout"
        }
      ]
    },
    {
      "cell_type": "code",
      "metadata": {
        "colab": {
          "base_uri": "https://localhost:8080/"
        },
        "id": "PVq-keGuSsUI",
        "outputId": "8e03acdd-30b2-4a8f-cb78-3c3ed6a7c5f6"
      },
      "source": [
        "T=float(input('T='))"
      ],
      "execution_count": 4,
      "outputs": [
        {
          "output_type": "stream",
          "text": [
            "T=1\n"
          ],
          "name": "stdout"
        }
      ]
    },
    {
      "cell_type": "code",
      "metadata": {
        "colab": {
          "base_uri": "https://localhost:8080/"
        },
        "id": "6-4EgQO2SvyT",
        "outputId": "d46dc315-c806-4fbf-837c-55da83f30541"
      },
      "source": [
        "for i in range(0,4):\n",
        "    if net[i] >= T:\n",
        "        y[i]=1;\n",
        "    else:\n",
        "        y[i]=0;\n",
        "\n",
        "print('Output of net=');\n",
        "print(y);"
      ],
      "execution_count": 5,
      "outputs": [
        {
          "output_type": "stream",
          "text": [
            "Output of net=\n",
            "[0 0 1 0]\n"
          ],
          "name": "stdout"
        }
      ]
    },
    {
      "cell_type": "code",
      "metadata": {
        "colab": {
          "base_uri": "https://localhost:8080/"
        },
        "id": "JpgXGHNWS6KO",
        "outputId": "a1fb4bda-7b12-4e77-ba66-a4f21fe85524"
      },
      "source": [
        "print('Target=');\n",
        "print(t);"
      ],
      "execution_count": 6,
      "outputs": [
        {
          "output_type": "stream",
          "text": [
            "Target=\n",
            "[0 1 1 1]\n"
          ],
          "name": "stdout"
        }
      ]
    },
    {
      "cell_type": "code",
      "metadata": {
        "colab": {
          "base_uri": "https://localhost:8080/"
        },
        "id": "7I4Bau_6S98v",
        "outputId": "a0dee1c7-59d9-4a45-eec7-ce699a6a932d"
      },
      "source": [
        "if np.array_equal(y,t):\n",
        "    print('Network has proper weights and threshold values');\n",
        "    print('Network has worked as AND function');\n",
        "    print('Output y',y);\n",
        "    print('Weights of neuron',w1,w2);\n",
        "    print('Threshold value=',T);\n",
        "else:\n",
        "    print('Network has been given WRONG parameters; Run again and provide another set of weights and threshold values');\n"
      ],
      "execution_count": 7,
      "outputs": [
        {
          "output_type": "stream",
          "text": [
            "Network has been given WRONG parameters; Run again and provide another set of weights and threshold values\n"
          ],
          "name": "stdout"
        }
      ]
    },
    {
      "cell_type": "code",
      "metadata": {
        "id": "EY0cjjn7TtzL"
      },
      "source": [
        ""
      ],
      "execution_count": null,
      "outputs": []
    }
  ]
}