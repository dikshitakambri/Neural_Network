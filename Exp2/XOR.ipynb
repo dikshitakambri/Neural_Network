{
  "nbformat": 4,
  "nbformat_minor": 0,
  "metadata": {
    "colab": {
      "name": "XOR.ipynb",
      "provenance": [],
      "collapsed_sections": []
    },
    "kernelspec": {
      "name": "python3",
      "display_name": "Python 3"
    },
    "language_info": {
      "name": "python"
    }
  },
  "cells": [
    {
      "cell_type": "code",
      "metadata": {
        "id": "iYatJ3_eGpUc"
      },
      "source": [
        "import numpy as np"
      ],
      "execution_count": 1,
      "outputs": []
    },
    {
      "cell_type": "code",
      "metadata": {
        "id": "IlndfPYNGsbh"
      },
      "source": [
        "x1 = np.array([0, 0, 1, 1])\n",
        "x2 = np.array([0, 1, 0, 1])\n",
        "t = np.array([0, 1, 1, 0])"
      ],
      "execution_count": 2,
      "outputs": []
    },
    {
      "cell_type": "code",
      "metadata": {
        "colab": {
          "base_uri": "https://localhost:8080/"
        },
        "id": "9ak9C8B1I9hv",
        "outputId": "97a94036-a243-477f-a3f3-6e9ae1dc2949"
      },
      "source": [
        "w11 = float(input('enter w11 value:'))\n",
        "w21 = float(input('enter w21 value:'))\n",
        "w12 = float(input('enter w12 value:'))\n",
        "w22 = float(input('enter w22 value:'))\n",
        "v1 = float(input('enter v1 value:'))\n",
        "v2 = float(input('enter v2 value:'))"
      ],
      "execution_count": 4,
      "outputs": [
        {
          "output_type": "stream",
          "text": [
            "enter w11 value:1\n",
            "enter w21 value:-1\n",
            "enter w12 value:-1\n",
            "enter w22 value:1\n",
            "enter v1 value:1\n",
            "enter v2 value:1\n"
          ],
          "name": "stdout"
        }
      ]
    },
    {
      "cell_type": "code",
      "metadata": {
        "colab": {
          "base_uri": "https://localhost:8080/"
        },
        "id": "FKrMT7p1QHt2",
        "outputId": "c6cb0ea1-85c5-479e-d59b-4e8834a7864c"
      },
      "source": [
        "T = float(input('enter Threshold value:'))"
      ],
      "execution_count": 5,
      "outputs": [
        {
          "output_type": "stream",
          "text": [
            "enter Threshold value:1\n"
          ],
          "name": "stdout"
        }
      ]
    },
    {
      "cell_type": "code",
      "metadata": {
        "colab": {
          "base_uri": "https://localhost:8080/"
        },
        "id": "KhdY9w0qQImg",
        "outputId": "163de8cf-538a-479c-ce0a-51666e203292"
      },
      "source": [
        "z1 = (w11*x1) + (w21*x2)\n",
        "print(z1)\n",
        "Z1 = np.array([0, 0, 0, 0])"
      ],
      "execution_count": 6,
      "outputs": [
        {
          "output_type": "stream",
          "text": [
            "[ 0. -1.  1.  0.]\n"
          ],
          "name": "stdout"
        }
      ]
    },
    {
      "cell_type": "code",
      "metadata": {
        "colab": {
          "base_uri": "https://localhost:8080/"
        },
        "id": "pmBQCmUZQOMW",
        "outputId": "31d4be8d-2c2e-4b25-c760-0088dd51348b"
      },
      "source": [
        "for i in range(0, 4):\n",
        "    if z1[i] >= T:\n",
        "        Z1[i] = 1\n",
        "    else:\n",
        "        Z1[i] = 0\n",
        "print(Z1)"
      ],
      "execution_count": 7,
      "outputs": [
        {
          "output_type": "stream",
          "text": [
            "[0 0 1 0]\n"
          ],
          "name": "stdout"
        }
      ]
    },
    {
      "cell_type": "code",
      "metadata": {
        "colab": {
          "base_uri": "https://localhost:8080/"
        },
        "id": "p2w-8PR7QTEx",
        "outputId": "e8cd6d1f-4088-4d66-83ab-fa1dcda6d961"
      },
      "source": [
        "z2 = (w12*x1) + (w22*x2)\n",
        "print(z2)\n",
        "Z2 = np.array([0, 0, 0, 0])"
      ],
      "execution_count": 8,
      "outputs": [
        {
          "output_type": "stream",
          "text": [
            "[ 0.  1. -1.  0.]\n"
          ],
          "name": "stdout"
        }
      ]
    },
    {
      "cell_type": "code",
      "metadata": {
        "colab": {
          "base_uri": "https://localhost:8080/"
        },
        "id": "AMyoQy1jQenZ",
        "outputId": "20cefca9-0c34-4523-d9a0-faa146a024c1"
      },
      "source": [
        "for i in range(0, 4):\n",
        "    if z2[i] >= T:\n",
        "        Z2[i] = 1\n",
        "    else:\n",
        "        Z2[i] = 0\n",
        "print(Z2)"
      ],
      "execution_count": 9,
      "outputs": [
        {
          "output_type": "stream",
          "text": [
            "[0 1 0 0]\n"
          ],
          "name": "stdout"
        }
      ]
    },
    {
      "cell_type": "code",
      "metadata": {
        "colab": {
          "base_uri": "https://localhost:8080/"
        },
        "id": "sP26tqK9QitQ",
        "outputId": "3b9b9090-f480-4045-d375-d4503cb18a4b"
      },
      "source": [
        "y = (v1*Z1) + (v2*Z2)\n",
        "print(y)\n",
        "Y = np.array([0, 0, 0, 0])"
      ],
      "execution_count": 10,
      "outputs": [
        {
          "output_type": "stream",
          "text": [
            "[0. 1. 1. 0.]\n"
          ],
          "name": "stdout"
        }
      ]
    },
    {
      "cell_type": "code",
      "metadata": {
        "colab": {
          "base_uri": "https://localhost:8080/"
        },
        "id": "oQ-lxIqkQm3y",
        "outputId": "d9ad24da-9246-4506-d3f7-d3b2a24d18a5"
      },
      "source": [
        "for i in range(0, 4):\n",
        "    if y[i] >= T:\n",
        "        Y[i] = 1\n",
        "    else:\n",
        "        Y[i] = 0\n",
        "\n",
        "print(\"predicted output:\", Y)\n",
        "print(\"target output:\", t)"
      ],
      "execution_count": 11,
      "outputs": [
        {
          "output_type": "stream",
          "text": [
            "predicted output: [0 1 1 0]\n",
            "target output: [0 1 1 0]\n"
          ],
          "name": "stdout"
        }
      ]
    },
    {
      "cell_type": "code",
      "metadata": {
        "colab": {
          "base_uri": "https://localhost:8080/"
        },
        "id": "FAu78jMUQrRo",
        "outputId": "571a5584-b1e1-4b38-ee9d-faaa6bdd43e4"
      },
      "source": [
        "if np.array_equal(Y,t):\n",
        "    print('Network has proper weights and threshold values');\n",
        "    print('Network has worked as XOR function');\n",
        "    print('Output y',Y);\n",
        "    print('Threshold value=',T);\n",
        "else:\n",
        "    print('Network has been given WRONG parameters; Run again and provide another set of weights and threshold values');"
      ],
      "execution_count": 12,
      "outputs": [
        {
          "output_type": "stream",
          "text": [
            "Network has proper weights and threshold values\n",
            "Network has worked as XOR function\n",
            "Output y [0 1 1 0]\n",
            "Threshold value= 1.0\n"
          ],
          "name": "stdout"
        }
      ]
    },
    {
      "cell_type": "code",
      "metadata": {
        "id": "d0pVS0mAQz6p"
      },
      "source": [
        ""
      ],
      "execution_count": null,
      "outputs": []
    }
  ]
}