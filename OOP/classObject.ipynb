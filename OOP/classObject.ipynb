{
  "nbformat": 4,
  "nbformat_minor": 0,
  "metadata": {
    "colab": {
      "name": "classObject.ipynb",
      "provenance": []
    },
    "kernelspec": {
      "name": "python3",
      "display_name": "Python 3"
    },
    "language_info": {
      "name": "python"
    }
  },
  "cells": [
    {
      "cell_type": "code",
      "metadata": {
        "id": "V-3hwqCNrUFK",
        "colab": {
          "base_uri": "https://localhost:8080/"
        },
        "outputId": "41d80d54-8232-4f58-aafb-a6058d4b771a"
      },
      "source": [
        "# Create a class named MyClass, with a property named x:\n",
        "class MyClass:\n",
        "  x = 5\n",
        "\n",
        "#Create an object named p1 and print the value of x:\n",
        "p1 = MyClass()\n",
        "print(p1.x)"
      ],
      "execution_count": 1,
      "outputs": [
        {
          "output_type": "stream",
          "text": [
            "5\n"
          ],
          "name": "stdout"
        }
      ]
    },
    {
      "cell_type": "code",
      "metadata": {
        "colab": {
          "base_uri": "https://localhost:8080/"
        },
        "id": "hWlteToM2CB3",
        "outputId": "0282e26e-417b-48c0-f2b9-345a6527514d"
      },
      "source": [
        "class Person:\n",
        "  def __init__(self, name, age):\n",
        "    self.name = name\n",
        "    self.age = age\n",
        "\n",
        "p1 = Person(\"John\", 36)\n",
        "\n",
        "print(p1.name)\n",
        "print(p1.age)"
      ],
      "execution_count": 2,
      "outputs": [
        {
          "output_type": "stream",
          "text": [
            "John\n",
            "36\n"
          ],
          "name": "stdout"
        }
      ]
    },
    {
      "cell_type": "code",
      "metadata": {
        "colab": {
          "base_uri": "https://localhost:8080/"
        },
        "id": "KGxg6sZ_2MHJ",
        "outputId": "9a16860f-2fd0-4d3c-9bf1-010f50da72d8"
      },
      "source": [
        "class Rectangle:\n",
        "   def __init__(self, length, breadth, unit_cost=0):\n",
        "       self.length = length\n",
        "       self.breadth = breadth\n",
        "       self.unit_cost = unit_cost\n",
        "   \n",
        "   def get_perimeter(self):\n",
        "       return 2 * (self.length + self.breadth)\n",
        "   \n",
        "   def get_area(self):\n",
        "       return self.length * self.breadth\n",
        "   \n",
        "   def calculate_cost(self):\n",
        "       area = self.get_area()\n",
        "       return area * self.unit_cost\n",
        "# breadth = 120 cm, length = 160 cm, 1 cm^2 = Rs 2000\n",
        "r = Rectangle(160, 120, 2000)\n",
        "print(\"Perimeter of Rectangle: %s cm\" % (r.get_perimeter())) # %s is a string formatting syntax\n",
        "print(\"Area of Rectangle: %s cm^2\" % (r.get_area()))\n",
        "print(\"Cost of rectangular field: Rs. %s \" %(r.calculate_cost()))"
      ],
      "execution_count": 4,
      "outputs": [
        {
          "output_type": "stream",
          "text": [
            "Perimeter of Rectangle: 560 cm\n",
            "Area of Rectangle: 19200 cm^2\n",
            "Cost of rectangular field: Rs. 38400000 \n",
            "Dikshita Kambri\n"
          ],
          "name": "stdout"
        }
      ]
    },
    {
      "cell_type": "code",
      "metadata": {
        "id": "BW8xIXXm2OBq",
        "colab": {
          "base_uri": "https://localhost:8080/"
        },
        "outputId": "31169177-865a-40aa-ec9d-3ae20a36bf73"
      },
      "source": [
        "class Cuboid:\n",
        "  def __init__(self, length, breadth, height):\n",
        "    self.length = length\n",
        "    self.breadth = breadth\n",
        "    self.height = height\n",
        "\n",
        "  def volume_cuboid(self):\n",
        "    return self.length * self.breadth * self.height\n",
        "\n",
        "C = Cuboid(10, 10, 10)\n",
        "print(\"Volume of cuboid: %s cm^3 \"% (C.volume_cuboid()))"
      ],
      "execution_count": 6,
      "outputs": [
        {
          "output_type": "stream",
          "text": [
            "Volume of cuboid: 1000 cm^3 \n",
            "Dikshita Kambri\n"
          ],
          "name": "stdout"
        }
      ]
    },
    {
      "cell_type": "code",
      "metadata": {
        "id": "kdSzHR1tomhx"
      },
      "source": [
        ""
      ],
      "execution_count": null,
      "outputs": []
    }
  ]
}