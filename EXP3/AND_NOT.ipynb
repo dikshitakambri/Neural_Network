{
  "nbformat": 4,
  "nbformat_minor": 0,
  "metadata": {
    "colab": {
      "name": "AND_NOT.ipynb",
      "provenance": [],
      "collapsed_sections": []
    },
    "kernelspec": {
      "name": "python3",
      "display_name": "Python 3"
    },
    "language_info": {
      "name": "python"
    }
  },
  "cells": [
    {
      "cell_type": "code",
      "metadata": {
        "id": "EwxEAgRPpxFP"
      },
      "source": [
        "import numpy as np"
      ],
      "execution_count": 1,
      "outputs": []
    },
    {
      "cell_type": "code",
      "metadata": {
        "id": "vURb4PZzp2LB"
      },
      "source": [
        "x1=[1,1,-1,-1]\n",
        "x2=[1,-1,1,-1]\n",
        "t=[-1,1,-1,1]\n",
        "y=[0,0,0,0]\n",
        "T=0\n",
        "alpha=1\n",
        "b=0\n",
        "w1=0\n",
        "w2=0\n",
        "c=0\n",
        "yin=[0,0,0,0]\n",
        "epoch=0"
      ],
      "execution_count": 2,
      "outputs": []
    },
    {
      "cell_type": "code",
      "metadata": {
        "colab": {
          "base_uri": "https://localhost:8080/"
        },
        "id": "fnr-_65Qp5yP",
        "outputId": "418c588e-2fc4-4d69-d558-fb5b75263009"
      },
      "source": [
        "while(c==0):\n",
        "  for i in range (0,4):\n",
        "    yin[i]=b+x1[i]*w1+x2[i]*w2\n",
        "    if yin[i]>0:\n",
        "      y[i]=1\n",
        "    elif yin[i]==0:\n",
        "      y[i]=0\n",
        "    else:\n",
        "      y[i]=-1\n",
        "    if (y[i]!=t[i]):\n",
        "      w1=w1+alpha*t[i]*x1[i]\n",
        "      w2=w2+alpha*t[i]*x2[i]\n",
        "      b=b+alpha*t[i]\n",
        "  epoch=epoch+1\n",
        "\n",
        "  if (np.array_equal(y,t)):\n",
        "    print(\"MODEL HAS CONVERGED\")\n",
        "    c=1"
      ],
      "execution_count": 3,
      "outputs": [
        {
          "output_type": "stream",
          "text": [
            "MODEL HAS CONVERGED\n"
          ],
          "name": "stdout"
        }
      ]
    },
    {
      "cell_type": "code",
      "metadata": {
        "colab": {
          "base_uri": "https://localhost:8080/"
        },
        "id": "WEq_QXgCqlgl",
        "outputId": "3746b00e-cc77-4cd9-8024-4a6e4472f11f"
      },
      "source": [
        "print(\"AND NOT gate\")\n",
        "print(\"w1 final\",w1)\n",
        "print(\"w2 final\",w2)\n",
        "print(\"b final\",b)\n",
        "print(epoch)"
      ],
      "execution_count": 4,
      "outputs": [
        {
          "output_type": "stream",
          "text": [
            "AND NOT gate\n",
            "w1 final 0\n",
            "w2 final -2\n",
            "b final 0\n",
            "2\n"
          ],
          "name": "stdout"
        }
      ]
    },
    {
      "cell_type": "code",
      "metadata": {
        "id": "jGA8X2jiqp1d"
      },
      "source": [
        ""
      ],
      "execution_count": null,
      "outputs": []
    }
  ]
}